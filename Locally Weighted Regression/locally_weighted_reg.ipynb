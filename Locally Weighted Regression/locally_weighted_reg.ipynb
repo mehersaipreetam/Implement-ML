{
 "cells": [
  {
   "cell_type": "markdown",
   "metadata": {},
   "source": [
    "## Locally Weighted Regression\n",
    "\n",
    "Locally weighted linear regression is a supervised learning algorithm.\n",
    "\n",
    "It a non-parametric algorithm.\n",
    "\n",
    "There exists No training phase. All the work is done during the testing phase/while making predictions.\n"
   ]
  },
  {
   "cell_type": "code",
   "execution_count": 1,
   "metadata": {},
   "outputs": [],
   "source": [
    "import numpy as np\n",
    "import pandas as pd\n",
    "import matplotlib.pyplot as plt"
   ]
  },
  {
   "cell_type": "code",
   "execution_count": 2,
   "metadata": {},
   "outputs": [
    {
     "data": {
      "text/html": [
       "<div>\n",
       "<style scoped>\n",
       "    .dataframe tbody tr th:only-of-type {\n",
       "        vertical-align: middle;\n",
       "    }\n",
       "\n",
       "    .dataframe tbody tr th {\n",
       "        vertical-align: top;\n",
       "    }\n",
       "\n",
       "    .dataframe thead th {\n",
       "        text-align: right;\n",
       "    }\n",
       "</style>\n",
       "<table border=\"1\" class=\"dataframe\">\n",
       "  <thead>\n",
       "    <tr style=\"text-align: right;\">\n",
       "      <th></th>\n",
       "      <th>Population</th>\n",
       "      <th>Profit</th>\n",
       "    </tr>\n",
       "  </thead>\n",
       "  <tbody>\n",
       "    <tr>\n",
       "      <th>0</th>\n",
       "      <td>6.1101</td>\n",
       "      <td>17.5920</td>\n",
       "    </tr>\n",
       "    <tr>\n",
       "      <th>1</th>\n",
       "      <td>5.5277</td>\n",
       "      <td>9.1302</td>\n",
       "    </tr>\n",
       "    <tr>\n",
       "      <th>2</th>\n",
       "      <td>8.5186</td>\n",
       "      <td>13.6620</td>\n",
       "    </tr>\n",
       "  </tbody>\n",
       "</table>\n",
       "</div>"
      ],
      "text/plain": [
       "   Population   Profit\n",
       "0      6.1101  17.5920\n",
       "1      5.5277   9.1302\n",
       "2      8.5186  13.6620"
      ]
     },
     "execution_count": 2,
     "metadata": {},
     "output_type": "execute_result"
    }
   ],
   "source": [
    "df = pd.read_csv('data.txt')\n",
    "df.head(3)"
   ]
  },
  {
   "cell_type": "code",
   "execution_count": 3,
   "metadata": {},
   "outputs": [
    {
     "name": "stdout",
     "output_type": "stream",
     "text": [
      "(97, 2)\n",
      "(97, 1)\n"
     ]
    }
   ],
   "source": [
    "data = df.values\n",
    "X = data[:,:1]\n",
    "m = X.shape[0]\n",
    "X = np.concatenate((X,np.ones((m,1))),axis=1)\n",
    "y = data[:,1]\n",
    "y = np.reshape(y,(m,1))\n",
    "print(X.shape)\n",
    "print(y.shape)"
   ]
  },
  {
   "cell_type": "code",
   "execution_count": 4,
   "metadata": {},
   "outputs": [],
   "source": [
    "def weighting(X,x,tou):\n",
    "    \"\"\"\n",
    "    This function takes in X(The entire training set), x(A particular value),\n",
    "    a parameter to regulate the thickness of weighting and returns the weight \n",
    "    matrix which is then used.\n",
    "    \"\"\"\n",
    "    X_1 = X[:,0]\n",
    "    w = np.exp((-np.square(X_1 - x)) / tou**2 )\n",
    "    return w"
   ]
  },
  {
   "cell_type": "code",
   "execution_count": 5,
   "metadata": {},
   "outputs": [],
   "source": [
    "def costfun(X,y,theta,tou,x):\n",
    "    \"\"\"\n",
    "    This function takes in X,y,theta and tou to calculate the cost i.e. a measure\n",
    "    of how good our model is working based on theta values calculated.\n",
    "    \"\"\"\n",
    "    m = y.shape[0]\n",
    "    w = weighting(X,x,tou)\n",
    "    temp = y - np.dot(X,theta)\n",
    "    cost = np.sum(np.dot(w.T,np.square(temp)))\n",
    "    return cost"
   ]
  },
  {
   "cell_type": "code",
   "execution_count": 6,
   "metadata": {},
   "outputs": [],
   "source": [
    "def rateofchange(X,y,theta):\n",
    "    \"\"\"\n",
    "    This function calculates the rate of change of theta which in turn is applied to theta\n",
    "    making it converge to the best possible set of parameters giving the most accurate model.\n",
    "    \"\"\"\n",
    "    m = y.shape[0]\n",
    "    pred_dif = np.dot(X,theta)- y\n",
    "    rate = (2 / m) * np.dot(X.T,pred_dif)\n",
    "    return rate"
   ]
  },
  {
   "cell_type": "code",
   "execution_count": 7,
   "metadata": {},
   "outputs": [],
   "source": [
    "def predict(X,y,x,tou,alpha,iterations):\n",
    "    \"\"\"\n",
    "    Locally Weighted Regression is a supervised non parametric algorithm. And in such, it \n",
    "    is one that trains and predicts all at once. Hence this is such a function, which takes \n",
    "    in all parameters, trains (suitable to that particular 'x' only) and then finally returns \n",
    "    that prediction\n",
    "    \"\"\"\n",
    "    theta = np.zeros((X.shape[1],1))\n",
    "    m = y.shape[0]\n",
    "    for i in range(iterations+1):\n",
    "        pred = np.dot(X,theta)\n",
    "        diff = pred - y\n",
    "        theta = theta - (((alpha / m) * rateofchange(X,y,theta)))\n",
    "        if i % iterations == 0:\n",
    "            cost = costfun(X,y,theta,tou,x)\n",
    "            print(cost,\" is the cost for iter number\", i)\n",
    "    return np.dot(np.array([x,1]),theta)"
   ]
  },
  {
   "cell_type": "code",
   "execution_count": 8,
   "metadata": {},
   "outputs": [
    {
     "data": {
      "text/plain": [
       "Text(0, 0.5, 'Profit')"
      ]
     },
     "execution_count": 8,
     "metadata": {},
     "output_type": "execute_result"
    },
    {
     "data": {
      "image/png": "[encoded data removed]",
      "text/plain": [
       "<Figure size 432x288 with 1 Axes>"
      ]
     },
     "metadata": {
      "needs_background": "light"
     },
     "output_type": "display_data"
    }
   ],
   "source": [
    "%matplotlib inline\n",
    "plt.plot(X[:,0],y,'ro')\n",
    "plt.xlabel('Population')\n",
    "plt.ylabel('Profit')"
   ]
  },
  {
   "cell_type": "code",
   "execution_count": 9,
   "metadata": {},
   "outputs": [
    {
     "name": "stdout",
     "output_type": "stream",
     "text": [
      "3.8489169122697665e-08  is the cost for iter number 0\n",
      "3.1611263518273097e-09  is the cost for iter number 1500\n",
      "\n",
      "The Prediction for given x is:\n",
      "[8.50628968]\n"
     ]
    }
   ],
   "source": [
    "\n",
    "res = predict(X,y,x = 10.5,tou = 0.05,alpha = 0.1,iterations = 1500)\n",
    "print()\n",
    "print('The Prediction for given x is:')\n",
    "print(res)"
   ]
  }
 ],
 "metadata": {
  "kernelspec": {
   "display_name": "Python 3",
   "language": "python",
   "name": "python3"
  },
  "language_info": {
   "codemirror_mode": {
    "name": "ipython",
    "version": 3
   },
   "file_extension": ".py",
   "mimetype": "text/x-python",
   "name": "python",
   "nbconvert_exporter": "python",
   "pygments_lexer": "ipython3",
   "version": "3.7.6"
  }
 },
 "nbformat": 4,
 "nbformat_minor": 4
}
