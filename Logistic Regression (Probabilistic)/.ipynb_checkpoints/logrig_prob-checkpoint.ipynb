{
 "cells": [
  {
   "cell_type": "code",
   "execution_count": 1,
   "metadata": {},
   "outputs": [],
   "source": [
    "import pandas as pd\n",
    "import numpy as np\n",
    "from numpy import array, exp\n",
    "import matplotlib.pyplot as plt\n",
    "import math "
   ]
  },
  {
   "cell_type": "markdown",
   "metadata": {},
   "source": [
    "# Logistic Regression"
   ]
  },
  {
   "cell_type": "code",
   "execution_count": 2,
   "metadata": {},
   "outputs": [
    {
     "data": {
      "text/html": [
       "<div>\n",
       "<style scoped>\n",
       "    .dataframe tbody tr th:only-of-type {\n",
       "        vertical-align: middle;\n",
       "    }\n",
       "\n",
       "    .dataframe tbody tr th {\n",
       "        vertical-align: top;\n",
       "    }\n",
       "\n",
       "    .dataframe thead th {\n",
       "        text-align: right;\n",
       "    }\n",
       "</style>\n",
       "<table border=\"1\" class=\"dataframe\">\n",
       "  <thead>\n",
       "    <tr style=\"text-align: right;\">\n",
       "      <th></th>\n",
       "      <th>0</th>\n",
       "      <th>1</th>\n",
       "      <th>2</th>\n",
       "    </tr>\n",
       "  </thead>\n",
       "  <tbody>\n",
       "    <tr>\n",
       "      <th>0</th>\n",
       "      <td>34.623660</td>\n",
       "      <td>78.024693</td>\n",
       "      <td>0</td>\n",
       "    </tr>\n",
       "    <tr>\n",
       "      <th>1</th>\n",
       "      <td>30.286711</td>\n",
       "      <td>43.894998</td>\n",
       "      <td>0</td>\n",
       "    </tr>\n",
       "    <tr>\n",
       "      <th>2</th>\n",
       "      <td>35.847409</td>\n",
       "      <td>72.902198</td>\n",
       "      <td>0</td>\n",
       "    </tr>\n",
       "    <tr>\n",
       "      <th>3</th>\n",
       "      <td>60.182599</td>\n",
       "      <td>86.308552</td>\n",
       "      <td>1</td>\n",
       "    </tr>\n",
       "    <tr>\n",
       "      <th>4</th>\n",
       "      <td>79.032736</td>\n",
       "      <td>75.344376</td>\n",
       "      <td>1</td>\n",
       "    </tr>\n",
       "  </tbody>\n",
       "</table>\n",
       "</div>"
      ],
      "text/plain": [
       "           0          1  2\n",
       "0  34.623660  78.024693  0\n",
       "1  30.286711  43.894998  0\n",
       "2  35.847409  72.902198  0\n",
       "3  60.182599  86.308552  1\n",
       "4  79.032736  75.344376  1"
      ]
     },
     "execution_count": 2,
     "metadata": {},
     "output_type": "execute_result"
    }
   ],
   "source": [
    "df = pd.read_csv('data.txt',delimiter=\",\",header=None)\n",
    "df.head()"
   ]
  },
  {
   "cell_type": "code",
   "execution_count": 3,
   "metadata": {},
   "outputs": [
    {
     "name": "stdout",
     "output_type": "stream",
     "text": [
      "(100, 3)\n",
      "(100, 1)\n"
     ]
    }
   ],
   "source": [
    "data = df.values\n",
    "X = data[:,0:2]\n",
    "m = X.shape[0]\n",
    "X = np.concatenate([X, np.ones((m, 1))], axis=1) #For the theta_knot\n",
    "y = data[:,2]\n",
    "y = np.reshape(y,(X.shape[0],1))\n",
    "print(X.shape)\n",
    "print(y.shape)"
   ]
  },
  {
   "cell_type": "markdown",
   "metadata": {},
   "source": [
    "### Visualising Data"
   ]
  },
  {
   "cell_type": "code",
   "execution_count": 4,
   "metadata": {},
   "outputs": [
    {
     "data": {
      "text/plain": [
       "Text(0.5, 0, 'Exam 2 Score')"
      ]
     },
     "execution_count": 4,
     "metadata": {},
     "output_type": "execute_result"
    },
    {
     "data": {
      "image/png": "[encoded data removed]",
      "text/plain": [
       "<Figure size 432x288 with 1 Axes>"
      ]
     },
     "metadata": {
      "needs_background": "light"
     },
     "output_type": "display_data"
    }
   ],
   "source": [
    "for k in range(y.shape[0]):\n",
    "    if y[k] == 1:\n",
    "        plt.plot(X[k,0], X[k,1], 'k*',lw=2, ms=10)\n",
    "    else:\n",
    "        plt.plot(X[k,0], X[k, 1], 'ko', mfc = 'y',ms=8, mec='k')\n",
    "plt.xlabel('Exam 1 Score')\n",
    "plt.xlabel('Exam 2 Score')"
   ]
  },
  {
   "cell_type": "code",
   "execution_count": 5,
   "metadata": {},
   "outputs": [],
   "source": [
    "def sigmoid(x):\n",
    "    \"\"\"\n",
    "    Given any kind of input, matrix, scalar or a vector, this function returns \n",
    "    the value of its sigmoid calculated element-wise.\n",
    "    \"\"\"    \n",
    "    return 1 / (1 + exp(-x))"
   ]
  },
  {
   "cell_type": "markdown",
   "metadata": {},
   "source": [
    "### Note:\n",
    "The following approach is probabilistic and hence instead of minimising the loss function, we maximise the likelihood funtion.\n"
   ]
  },
  {
   "cell_type": "code",
   "execution_count": 6,
   "metadata": {},
   "outputs": [],
   "source": [
    "def likelihood(X,y,theta):\n",
    "    '''\n",
    "    This function calculates the likelihood (or more specifically its log), which \n",
    "    we will attempt to maximise later\n",
    "    '''\n",
    "    # h(x) = g(theta.T X)\n",
    "    h = sigmoid(np.dot(X,theta))\n",
    "    lik = np.sum(np.multiply(y,h) + np.multiply((1 - y), (1-h)))\n",
    "    return lik"
   ]
  },
  {
   "cell_type": "code",
   "execution_count": 7,
   "metadata": {},
   "outputs": [],
   "source": [
    "def ratelik(X,y,theta):\n",
    "    '''\n",
    "    This funtion calculates the steps theta has to take to maximise the likelihood\n",
    "    calculated in likelihood function.\n",
    "    '''\n",
    "    h = sigmoid(np.dot(X,theta))\n",
    "    rol = np.dot(X.T, (y - h))\n",
    "    return rol"
   ]
  },
  {
   "cell_type": "code",
   "execution_count": 8,
   "metadata": {},
   "outputs": [
    {
     "name": "stdout",
     "output_type": "stream",
     "text": [
      "50.0 : Likehood\n",
      "[[1200.92165893]\n",
      " [1126.28422055]\n",
      " [  10.        ]] : Rate\n"
     ]
    }
   ],
   "source": [
    "m = X.shape[1]\n",
    "initial_theta = np.zeros((m,1))\n",
    "like = likelihood(X,y,initial_theta)\n",
    "rate = ratelik(X,y,initial_theta)\n",
    "print(like,': Likehood')\n",
    "print(rate,': Rate')"
   ]
  },
  {
   "cell_type": "code",
   "execution_count": null,
   "metadata": {},
   "outputs": [
    {
     "name": "stdout",
     "output_type": "stream",
     "text": [
      "59.88966677767246  for iter number 0\n",
      "82.80038578049087  for iter number 800000\n",
      "84.89315603077894  for iter number 1600000\n",
      "85.73258234703418  for iter number 2400000\n",
      "86.18535864714684  for iter number 3200000\n",
      "86.46436196456673  for iter number 4000000\n",
      "86.64973236872136  for iter number 4800000\n"
     ]
    }
   ],
   "source": [
    "alpha = 0.001\n",
    "iterations = 8000000\n",
    "m = y.shape[0]\n",
    "for i in range(iterations+1):\n",
    "    pred = sigmoid(np.dot(X,initial_theta))\n",
    "    diff = pred - y\n",
    "    initial_theta = initial_theta + ((alpha/m) * ratelik(X,y,initial_theta))\n",
    "    if i % 800000==0:\n",
    "        lik = likelihood(X,y,initial_theta)\n",
    "        print(lik ,\" for iter number\", i)\n",
    "print(initial_theta)"
   ]
  },
  {
   "cell_type": "code",
   "execution_count": null,
   "metadata": {},
   "outputs": [],
   "source": [
    "X = np.array([60,40,1])\n",
    "print(sigmoid(np.dot(X,initial_theta)))"
   ]
  }
 ],
 "metadata": {
  "kernelspec": {
   "display_name": "Python 3",
   "language": "python",
   "name": "python3"
  },
  "language_info": {
   "codemirror_mode": {
    "name": "ipython",
    "version": 3
   },
   "file_extension": ".py",
   "mimetype": "text/x-python",
   "name": "python",
   "nbconvert_exporter": "python",
   "pygments_lexer": "ipython3",
   "version": "3.7.6"
  }
 },
 "nbformat": 4,
 "nbformat_minor": 4
}
